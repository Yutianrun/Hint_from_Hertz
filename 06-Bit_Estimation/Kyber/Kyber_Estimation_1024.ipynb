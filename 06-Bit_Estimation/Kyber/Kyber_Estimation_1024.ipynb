{
 "cells": [
  {
   "cell_type": "markdown",
   "metadata": {},
   "source": [
    "# Kyber Estimation\n",
    "\n",
    "Estimate the drop of bit security caused by multiple information leaked from power side channel."
   ]
  },
  {
   "cell_type": "code",
   "execution_count": 1,
   "metadata": {},
   "outputs": [
    {
     "name": "stdout",
     "output_type": "stream",
     "text": [
      " Kyber1024_bikz.pdf   Kyber768_qbit.pdf              modular_result512.txt\n",
      " Kyber1024_qbit.pdf   Kyber_Estimation.ipynb         modular_result768.txt\n",
      " Kyber512_bikz.pdf   'Kyber_Estimation_64*3.ipynb'   stdout.txt\n",
      " Kyber512_qbit.pdf    PlotDrops.ipynb                untitled.txt\n",
      " Kyber768_bikz.pdf    modular_result1024.txt         untitled1.txt\n"
     ]
    }
   ],
   "source": [
    "!ls"
   ]
  },
  {
   "cell_type": "code",
   "execution_count": 2,
   "metadata": {},
   "outputs": [],
   "source": [
    "load(\"../framework/instance_gen.sage\")"
   ]
  },
  {
   "cell_type": "code",
   "execution_count": 21,
   "metadata": {},
   "outputs": [
    {
     "data": {
      "text/plain": [
       "{-2: 0.0625000000000000,\n",
       " -1: 0.250000000000000,\n",
       " 0: 0.375000000000000,\n",
       " 1: 0.250000000000000,\n",
       " 2: 0.0625000000000000}"
      ]
     },
     "execution_count": 21,
     "metadata": {},
     "output_type": "execute_result"
    }
   ],
   "source": [
    "build_centered_binomial_law(2)"
   ]
  },
  {
   "cell_type": "code",
   "execution_count": 4,
   "metadata": {},
   "outputs": [
    {
     "name": "stdout",
     "output_type": "stream",
     "text": [
      "\u001b[4;37m      Build DBDD from LWE      \u001b[0m\n",
      "\u001b[1;33m n=1024 \t m=1024 \t q=3329 \u001b[0m\n",
      "\u001b[4;37m       Attack Estimation      \u001b[0m\n",
      "\u001b[1;33m dim=2049 \t δ=1.002255 \t β=877.44  \u001b[0m\n",
      "\u001b[0m  \u001b[0m\n"
     ]
    }
   ],
   "source": [
    "## LWattackstance initilizaiton\n",
    "\n",
    "\n",
    "KYBER_K =4\n",
    "\n",
    " ## default as 768\n",
    "\n",
    "ntt_n = 256\n",
    "\n",
    "n = KYBER_K *ntt_n\n",
    "m = n\n",
    "q = 3329\n",
    "# D_e = build_centered_binomial?\n",
    "\n",
    "\n",
    "bit_security_constant = 0.292\n",
    "\n",
    "if KYBER_K ==3 or KYBER_K ==4:\n",
    "    D_e = build_centered_binomial_law(2)\n",
    "    # D_e = {-2: 0.0625, -1: 0.25, 0: 0.375, 1: 0.25, 2: 0.0625}\n",
    "elif KYBER_K == 2 or KYBER_K ==1 :\n",
    "    D_e = build_centered_binomial_law(2)\n",
    "    # D_e = build_centered_binomial_law(3)\n",
    "    # D_e = {-2:0.093754,-1:0.2343754,2:0.093754,1:0.2343754, 0:0.31255, -3: (1- 0.31255 -0.2343754*2 -0.093754 *2)/2, 3: (1- 0.31255 -0.2343754*2 -0.093754 *2)/2}\n",
    "else:\n",
    "    assert(\"The input KYBER_N must be in {2,3,4} corresponding to {Kyber_512, 768, 1024}\") \n",
    "\n",
    "D_s = D_e\n",
    "A, b, dbdd = initialize_from_LWE_instance(DBDD_predict, n, q, m, D_e, D_s)\n",
    "# _ = dbdd.integrate_q_vectors(q, report_every=20)\n",
    "beta, delta = dbdd.estimate_attack()"
   ]
  },
  {
   "cell_type": "code",
   "execution_count": 5,
   "metadata": {},
   "outputs": [
    {
     "data": {
      "text/plain": [
       "256.212123610483"
      ]
     },
     "execution_count": 5,
     "metadata": {},
     "output_type": "execute_result"
    }
   ],
   "source": [
    "beta*0.292"
   ]
  },
  {
   "cell_type": "code",
   "execution_count": 6,
   "metadata": {},
   "outputs": [],
   "source": [
    "R = IntegerModRing(3329)\n",
    "V = VectorSpace(R,ntt_n)\n",
    "\n",
    "import numpy as np\n",
    "\n",
    "def bit_reverse(x):return 2*int( \"0b\" + bin(x)[2:].rjust(7,'0')[::-1] ,2)+1\n",
    "\n",
    "NTT_matrix = []\n",
    "\n",
    "def add (x,y) : return x +y\n",
    "\n",
    "for x in range(ntt_n/2):\n",
    "    NTT_matrix.append(V(reduce(add, [[(17)^(x*bit_reverse(i)),0] for i in range(ntt_n/2)])))\n",
    "    NTT_matrix.append(V(reduce(add, [[0,(17)^(x*bit_reverse(i))] for i in range(ntt_n/2)])))\n",
    "\n",
    "NTT_matrix = matrix(NTT_matrix)\n",
    "\n",
    "inv_NTT_matrix = NTT_matrix^-1"
   ]
  },
  {
   "cell_type": "code",
   "execution_count": null,
   "metadata": {},
   "outputs": [],
   "source": []
  },
  {
   "cell_type": "code",
   "execution_count": 7,
   "metadata": {},
   "outputs": [],
   "source": [
    "s = [[0 for i in range(ntt_n)] for j in range(KYBER_K)]\n",
    "\n",
    "for i in range(KYBER_K):\n",
    "    for j in range(ntt_n):\n",
    "        v0 = [0 for i in range(m + n)]\n",
    "        v0[i*ntt_n+j]=1\n",
    "        s[i][j] = dbdd.leak(v0)"
   ]
  },
  {
   "cell_type": "code",
   "execution_count": 8,
   "metadata": {},
   "outputs": [
    {
     "data": {
      "text/plain": [
       "\u001b[0;31mType:\u001b[0m           list\n",
       "\u001b[0;31mString form:\u001b[0m    [[-1, 1, 1, 1, 0, 0, -1, -1, 0, 0, -1, -1, -1, 0, -1, 0, 2, -1, -1, -1, 0, 1, 1, 1, 0, -2, 0, -1, <...> 1, 0, 0, -1, 0, 0, -1, -1, 1, 0, -1, -1, 2, 0, 0, -1, 1, -1, 0, 1, -1, 0, 0, 0, 1, -1, 0, -2, 0]]\n",
       "\u001b[0;31mLength:\u001b[0m         4\n",
       "\u001b[0;31mFile:\u001b[0m           \n",
       "\u001b[0;31mDocstring:\u001b[0m     \n",
       "Built-in mutable sequence.\n",
       "\n",
       "If no argument is given, the constructor creates a new empty list. The\n",
       "argument must be an iterable if specified.\n",
       "\u001b[0;31mInit docstring:\u001b[0m Initialize self.  See help(type(self)) for accurate signature."
      ]
     },
     "metadata": {},
     "output_type": "display_data"
    }
   ],
   "source": [
    "s?"
   ]
  },
  {
   "cell_type": "code",
   "execution_count": 9,
   "metadata": {},
   "outputs": [],
   "source": [
    "s_hat_list = [V(i)*NTT_matrix for i in s]"
   ]
  },
  {
   "cell_type": "code",
   "execution_count": 10,
   "metadata": {},
   "outputs": [],
   "source": [
    "# Hint_list\n",
    "s_relation_list = [ [R(s_hat[2*i])/R(s_hat[2*i+1]) for i in range(ntt_n/2)]  for s_hat in s_hat_list]\n",
    "\n",
    "v_list = []\n",
    "v_list_1 = []\n",
    "for j in range(KYBER_K):\n",
    "    for i in range(ntt_n/2):\n",
    "        s_relation = s_relation_list[j]\n",
    "        k = s_relation[i]\n",
    "        v = list((NTT_matrix.column(2*i) - k*NTT_matrix.column(2*i+1)))\n",
    "        v = [0]*int(ntt_n*j) + v + [0]*int(ntt_n*(KYBER_K-j-1))\n",
    "        v_prime  = [int(i) for i in list(v) + [0]*(m)]\n",
    "    \n",
    "        v_prime= vec(v_prime)\n",
    "        v_list.append(v_prime)\n",
    "        v_list_1.append(v)\n",
    "        # print(dbdd.leak(v_prime)%3329)\n",
    "\n",
    "    \n"
   ]
  },
  {
   "cell_type": "code",
   "execution_count": 11,
   "metadata": {},
   "outputs": [],
   "source": [
    "from tqdm import tqdm,tqdm_notebook"
   ]
  },
  {
   "cell_type": "code",
   "execution_count": 12,
   "metadata": {},
   "outputs": [],
   "source": [
    "# for i in tqdm(range(10)):\n",
    "#     sleep(1)"
   ]
  },
  {
   "cell_type": "code",
   "execution_count": 13,
   "metadata": {},
   "outputs": [],
   "source": [
    "# import logging\n",
    "# import sys\n",
    "# import datetime\n",
    "\n",
    "# def init_logger(filename, logger_name):\n",
    "#     '''\n",
    "#     @brief:\n",
    "#         initialize logger that redirect info to a file just in case we lost connection to the notebook\n",
    "#     @params:\n",
    "#         filename: to which file should we log all the info\n",
    "#         logger_name: an alias to the logger\n",
    "#     '''\n",
    "\n",
    "#     # get current timestamp\n",
    "#     timestamp = datetime.datetime.utcnow().strftime('%Y%m%d_%H-%M-%S')\n",
    "    \n",
    "#     logging.basicConfig(\n",
    "#         level=logging.INFO, \n",
    "#         format='[%(asctime)s] %(name)s {%(filename)s:%(lineno)d} %(levelname)s - %(message)s',\n",
    "#         handlers=[\n",
    "#             logging.FileHandler(filename=filename),\n",
    "#             logging.StreamHandler(sys.stdout)\n",
    "#         ]\n",
    "#     )\n",
    "\n",
    "#     # Test\n",
    "#     logger = logging.getLogger(logger_name)\n",
    "#     logger.info('### Init. Logger {} ###'.format(logger_name))\n",
    "#     return logger\n",
    "\n",
    "# # Initialize\n",
    "# my_logger = init_logger(\"./ml_notebook.log\", \"ml_logger\")"
   ]
  },
  {
   "cell_type": "code",
   "execution_count": 14,
   "metadata": {
    "scrolled": true
   },
   "outputs": [
    {
     "name": "stderr",
     "output_type": "stream",
     "text": [
      "100%|███████████████████████████████████████████████████████████████████████████████████████████████████████████████████████| 512/512 [2:37:25<00:00, 18.45s/it]\n"
     ]
    }
   ],
   "source": [
    "# sys.stdout = open('stdout.txt','w') \n",
    "\n",
    "for v0 in tqdm(v_list):\n",
    "    a=dbdd.leak(v0)%3329\n",
    "    if a!=0:\n",
    "        assert(\"a!=0\")\n",
    "    dbdd.integrate_modular_hint(v0,0,3329)\n"
   ]
  },
  {
   "cell_type": "code",
   "execution_count": 18,
   "metadata": {},
   "outputs": [],
   "source": [
    "beta_1, delta_1 = dbdd.estimate_attack()"
   ]
  },
  {
   "cell_type": "code",
   "execution_count": 20,
   "metadata": {},
   "outputs": [
    {
     "data": {
      "text/plain": [
       "163.468746212081"
      ]
     },
     "execution_count": 20,
     "metadata": {},
     "output_type": "execute_result"
    }
   ],
   "source": [
    "beta_1*0.292"
   ]
  },
  {
   "cell_type": "code",
   "execution_count": 15,
   "metadata": {},
   "outputs": [
    {
     "data": {
      "text/plain": [
       "<__main__.DBDD_predict object at 0x7ec94a8270d0>"
      ]
     },
     "execution_count": 15,
     "metadata": {},
     "output_type": "execute_result"
    }
   ],
   "source": [
    "# dbdd"
   ]
  },
  {
   "cell_type": "code",
   "execution_count": 16,
   "metadata": {},
   "outputs": [],
   "source": [
    "# dbdd.float_type=\"qd\"\n",
    "# # dbdd.float_type=\"mpfr\""
   ]
  },
  {
   "cell_type": "code",
   "execution_count": null,
   "metadata": {},
   "outputs": [],
   "source": []
  }
 ],
 "metadata": {
  "kernelspec": {
   "display_name": "SageMath 10.2",
   "language": "sage",
   "name": "sagemath"
  },
  "language_info": {
   "codemirror_mode": {
    "name": "ipython",
    "version": 3
   },
   "file_extension": ".py",
   "mimetype": "text/x-python",
   "name": "python",
   "nbconvert_exporter": "python",
   "pygments_lexer": "ipython3",
   "version": "3.11.7"
  }
 },
 "nbformat": 4,
 "nbformat_minor": 4
}
