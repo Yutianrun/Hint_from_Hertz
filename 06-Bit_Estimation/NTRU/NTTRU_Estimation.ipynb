{
 "cells": [
  {
   "cell_type": "markdown",
   "metadata": {},
   "source": [
    "# NTTRU Estimation\n",
    "\n",
    "Estimate the drop of bit security caused by multiple information leaked from power side channel."
   ]
  },
  {
   "cell_type": "code",
   "execution_count": 4,
   "metadata": {},
   "outputs": [],
   "source": [
    "load(\"../framework/instance_gen.sage\")"
   ]
  },
  {
   "cell_type": "markdown",
   "metadata": {},
   "source": [
    "<!-- ![jupyter](./nttru_distribution.png) -->"
   ]
  },
  {
   "cell_type": "code",
   "execution_count": null,
   "metadata": {},
   "outputs": [
    {
     "name": "stdout",
     "output_type": "stream",
     "text": [
      "hello\n"
     ]
    }
   ],
   "source": [
    "## NTRU instance initilizaiton\n",
    "\n",
    "\n",
    "n = 768\n",
    "m = n\n",
    "q = 7681\n",
    "\n",
    "# D_e = {-1: 5/16, 0:6/16, 1:5/16}\n",
    "# D_s = D_e\n",
    "# number of one in f and g In NTTRU , the distribution of -1,0,1 is 5/16, 6/16,6/16\n",
    "Dg = int(round(6*n/16))\n",
    "Df = Dg\n",
    "bit_security_constant = 0.292\n",
    "\n",
    "A, b, dbdd = initialize_NTRU_instance(DBDD, n, q, Df, Dg, verbosity=0)\n",
    "# A, b, dbdd = initialize_from_LWE_instance(DBDD_predict, n, q, m, D_e,D_s)"
   ]
  },
  {
   "cell_type": "code",
   "execution_count": 17,
   "metadata": {},
   "outputs": [],
   "source": [
    "## example s_hat\n",
    "\n",
    "s_hat = [4516, 2276, 4914, 5522, 2472, 5117, 7189, 4818, 5814, 1201, 1768, 7572, 3018, 5671, 2316, 996, 6907, 6410, 2334, 3437, 7231, 4926, 6416, 1720, 7430, 2082, 1105, 2672, 1596, 3064, 2279, 6081, 695, 5503, 3467, 5420, 3861, 5016, 2590, 6879, 3688, 4971, 3467, 7062, 3762, 3535, 7002, 559, 440, 6840, 7548, 4458, 4500, 5452, 6788, 7424, 4462, 1650, 4791, 7390, 2845, 6256, 6006, 3723, 7136, 6350, 1561, 6260, 3051, 86, 5942, 721, 6415, 5482, 868, 2459, 1561, 3848, 7522, 6214, 2874, 6307, 3801, 16, 4851, 5708, 5874, 688, 1082, 6398, 5252, 3344, 5333, 4710, 900, 4981, 7255, 6223, 1488, 5212, 5951, 1789, 7208, 1478, 6567, 3085, 7176, 834, 102, 5594, 1980, 6670, 4149, 1332, 4888, 2318, 2330, 4196, 3930, 3250, 4589, 108, 2761, 6388, 6578, 2312, 1610, 30, 1348, 6887, 786, 4489, 4604, 2754, 3360, 4780, 188, 904, 428, 6826, 148, 943, 7320, 7451, 4167, 4161, 2832, 5735, 7086, 7393, 2624, 1840, 7478, 4592, 280, 464, 6395, 5864, 3626, 2199, 3651, 3268, 6670, 3312, 1430, 5538, 5984, 6753, 4129, 727, 4918, 5661, 6042, 2498, 4212, 1973, 2079, 4977, 2387, 4547, 7605, 163, 6628, 6136, 2867, 1456, 769, 4996, 686, 1200, 4761, 1931, 477, 5468, 894, 5169, 5875, 3919, 4983, 363, 128, 2287, 4073, 2398, 4901, 4766, 5572, 6981, 5990, 4181, 6995, 893, 5123, 3268, 4434, 3012, 1704, 712, 537, 1003, 2100, 7539, 4758, 1817, 7385, 612, 6885, 2377, 5414, 3853, 6143, 3117, 1638, 4684, 607, 4627, 745, 4854, 4869, 183, 586, 1276, 3051, 4086, 4343, 2905, 1035, 3329, 1936, 5084, 272, 4985, 31, 253, 4550, 907, 1079, 546, 5452, 6725, 673, 2905, 1424, 1601, 6047, 2994, 6777, 2771, 1097, 323, 2046, 7311, 2540, 7169, 682, 6265, 6599, 3487, 6608, 5150, 7447, 4125, 1270, 2353, 4342, 6965, 4290, 1010, 4200, 3542, 3453, 4575, 3976, 6033, 741, 4041, 6034, 2553, 4441, 3423, 4379, 7370, 2147, 4243, 5072, 94, 42, 4717, 2101, 3, 6901, 1147, 3461, 3229, 1776, 6254, 4576, 7095, 7408, 4630, 3151, 5063, 3518, 1765, 764, 341, 6200, 5867, 3430, 7555, 3497, 7305, 5325, 5274, 5679, 472, 1501, 5398, 3589, 6722, 7130, 6049, 2782, 5222, 723, 7464, 38, 4328, 6008, 6458, 6082, 3102, 3766, 3205, 5245, 5224, 3691, 2179, 2279, 4945, 1991, 6899, 3898, 509, 870, 3606, 4113, 6816, 3293, 3006, 7097, 5440, 2275, 4172, 2874, 7586, 583, 2204, 6288, 2087, 6755, 6593, 6592, 588, 189, 7161, 58, 6828, 1545, 7128, 4916, 132, 3461, 2197, 1, 6035, 4164, 636, 2939, 7607, 4329, 6173, 1323, 2827, 7285, 4506, 6167, 2331, 3906, 5741, 849, 5454, 6157, 638, 4616, 7358, 3754, 3646, 1220, 251, 6155, 2733, 6515, 5262, 6387, 6227, 3970, 2237, 3621, 2783, 183, 1341, 4858, 7483, 3590, 2305, 6997, 1967, 6664, 6463, 2526, 6922, 3706, 4610, 181, 7429, 5752, 2595, 2311, 6751, 5, 1630, 6141, 4774, 3375, 3663, 4277, 447, 1889, 6765, 3660, 5139, 3795, 6880, 317, 5023, 1390, 1337, 4462, 4676, 5781, 725, 2274, 3471, 5600, 2916, 6024, 4213, 2895, 5809, 1809, 3599, 6473, 321, 6570, 6988, 3231, 3814, 4947, 4722, 7232, 176, 5668, 3001, 2782, 6479, 6300, 2904, 585, 3376, 4931, 3312, 2139, 6065, 5423, 7122, 4999, 67, 1833, 1862, 7387, 1758, 2282, 1978, 4079, 784, 4515, 7292, 6006, 923, 5078, 5860, 6711, 3596, 5897, 168, 2935, 3140, 6282, 1184, 4883, 1481, 2917, 1046, 5366, 4967, 3775, 716, 5927, 7549, 4463, 5619, 5646, 158, 3519, 6028, 1324, 2054, 582, 4375, 4214, 5992, 2038, 1992, 2483, 7411, 2676, 5645, 5885, 1332, 1493, 3871, 2885, 3840, 1222, 2372, 2952, 550, 7176, 5414, 4338, 17, 2520, 3124, 3539, 807, 1110, 7491, 3815, 6918, 6437, 3724, 6981, 5952, 6891, 4741, 1933, 3156, 5309, 1028, 4992, 1925, 6733, 3696, 4293, 1276, 831, 1264, 5865, 4543, 3347, 2725, 3856, 1013, 6471, 1271, 1021, 2086, 5150, 2781, 1275, 4273, 2175, 7100, 3689, 1582, 5528, 5397, 1243, 702, 4858, 5375, 4776, 2148, 4030, 6823, 7270, 1034, 6854, 4673, 2843, 7385, 2993, 3027, 4169, 6064, 3699, 5614, 2325, 955, 3201, 1058, 5909, 3033, 4723, 2940, 5013, 2657, 2654, 4399, 6427, 629, 4131, 6180, 7358, 5266, 1138, 127, 7614, 295, 1621, 6066, 1563, 1643, 7199, 47, 2459, 5224, 4697, 6565, 7289, 4641, 4420, 5401, 5760, 6250, 1485, 2626, 5282, 2278, 3800, 2490, 2881, 3424, 6344, 2333, 3133, 3947, 3054, 2377, 7110, 3993, 4932, 2399, 7001, 1281, 7309, 3577, 3011, 2390, 6327, 3484, 7523, 7450, 7563, 3630, 3482, 1452, 5503, 622, 5906, 4156, 512, 300, 5637, 6009, 3045, 171, 2123, 835, 6813, 5712, 3839, 1886, 437, 714, 4742, 7514, 4664, 4434, 7615, 3914, 7646, 4966, 5707, 4394, 6642, 1937, 1565, 1039, 146, 6811, 6435, 2342, 3394, 6896, 5881, 1887, 6580, 5057, 3424, 7327, 7127, 7357, 4939, 4217, 7597, 3220, 7161, 2897, 2197, 6882, 5486, 7103, 3715, 4361, 2402, 6187, ]"
   ]
  },
  {
   "cell_type": "code",
   "execution_count": 19,
   "metadata": {},
   "outputs": [],
   "source": [
    "## NTT initialization\n",
    "\n",
    "bit_reverse_tree = [1, 128, 64, 320, 32, 224, 160, 352, 16, 208, 112, 304, 80, 272, 176, 368, 8, 200, 104, 296, 56, 248, 152, 344, 40, 232, 136, 328, 88, 280, 184, 376, 4, 196, 100, 292, 52, 244, 148, 340, 28, 220, 124, 316, 76, 268, 172, 364, 20, 212, 116, 308, 68, 260, 164, 356, 44, 236, 140, 332, 92, 284, 188, 380, 2, 194, 98, 290, 50, 242, 146, 338, 26, 218, 122, 314, 74, 266, 170, 362, 14, 206, 110, 302, 62, 254, 158, 350, 38, 230, 134, 326, 86, 278, 182, 374, 10, 202, 106, 298, 58, 250, 154, 346, 34, 226, 130, 322, 82, 274, 178, 370, 22, 214, 118, 310, 70, 262, 166, 358, 46, 238, 142, 334, 94, 286, 190, 382, 1, 193, 97, 289, 49, 241, 145, 337, 25, 217, 121, 313, 73, 265, 169, 361, 13, 205, 109, 301, 61, 253, 157, 349, 37, 229, 133, 325, 85, 277, 181, 373, 7, 199, 103, 295, 55, 247, 151, 343, 31, 223, 127, 319, 79, 271, 175, 367, 19, 211, 115, 307, 67, 259, 163, 355, 43, 235, 139, 331, 91, 283, 187, 379, 5, 197, 101, 293, 53, 245, 149, 341, 29, 221, 125, 317, 77, 269, 173, 365, 17, 209, 113, 305, 65, 257, 161, 353, 41, 233, 137, 329, 89, 281, 185, 377, 11, 203, 107, 299, 59, 251, 155, 347, 35, 227, 131, 323, 83, 275, 179, 371, 23, 215, 119, 311, 71, 263, 167, 359, 47, 239, 143, 335, 95, 287, 191, 383]\n",
    "R = IntegerModRing(q)\n",
    "V = VectorSpace(R,n)\n",
    "\n",
    "import numpy as np\n",
    "\n",
    "# def bit_reverse(x):return int( \"0b\" + bin(x)[2:].rjust(8,'0')[::-1] ,2)+1\n",
    "def bit_reverse(x): return bit_reverse_tree[x]\n",
    "NTT_matrix = []\n",
    "\n",
    "def add (x,y) : return x +y\n",
    "\n",
    "for x in range(n/3):\n",
    "    NTT_matrix.append(V(reduce(add, [[20^(x*bit_reverse(i)),0,0] for i in range(n/3)])))\n",
    "    NTT_matrix.append(V(reduce(add, [[0,20^(x*bit_reverse(i)),0] for i in range(n/3)])))\n",
    "    NTT_matrix.append(V(reduce(add, [[0,0,20^(x*bit_reverse(i))] for i in range(n/3)])))\n",
    "\n",
    "\n",
    "NTT_matrix = matrix(NTT_matrix)\n",
    "\n",
    "# inv_NTT_matrix = NTT_matrix^-1"
   ]
  },
  {
   "cell_type": "code",
   "execution_count": 20,
   "metadata": {},
   "outputs": [
    {
     "data": {
      "text/plain": [
       "\u001b[0;31mSignature:\u001b[0m      \u001b[0mdbdd\u001b[0m\u001b[0;34m.\u001b[0m\u001b[0mleak\u001b[0m\u001b[0;34m(\u001b[0m\u001b[0mv\u001b[0m\u001b[0;34m)\u001b[0m\u001b[0;34m\u001b[0m\u001b[0;34m\u001b[0m\u001b[0m\n",
       "\u001b[0;31mInit docstring:\u001b[0m Initialize self.  See help(type(self)) for accurate signature.\n",
       "\u001b[0;31mFile:\u001b[0m           Dynamically generated function. No source code available.\n",
       "\u001b[0;31mType:\u001b[0m           method\n"
      ]
     },
     "metadata": {},
     "output_type": "display_data"
    }
   ],
   "source": [
    "dbdd.leak?"
   ]
  },
  {
   "cell_type": "code",
   "execution_count": 46,
   "metadata": {
    "scrolled": true
   },
   "outputs": [
    {
     "data": {
      "text/plain": [
       "2276"
      ]
     },
     "execution_count": 46,
     "metadata": {},
     "output_type": "execute_result"
    }
   ],
   "source": [
    "zeta = 20\n",
    "from tqdm import trange\n",
    "\n",
    "def enumerate_z(tripple_indexes):\n",
    "    \n",
    "    curr_zeta = R(zeta**bit_reverse_tree[tripple_indexes])\n",
    "    f_hat_0= s_hat[tripple_indexes*3]\n",
    "    f_hat_1= s_hat[tripple_indexes*3+1]\n",
    "    f_hat_2= s_hat[tripple_indexes*3+2]\n",
    "    \n",
    "    for z in trange(q):\n",
    "        for z_prime in range(q):\n",
    "            if (z*f_hat_0+f_hat_1+z_prime*f_hat_2*curr_zeta==0 and z_prime*f_hat_0 + z*f_hat_1 +f_hat_2==0):\n",
    "                return (z,z_prime)\n",
    "            \n",
    "    print(\"flase\")\n",
    "    return 0,0\n",
    "f_hat_0= s_hat[0]\n",
    "f_hat_1= s_hat[1]\n",
    "f_hat_2= s_hat[2]\n",
    "\n",
    "\n",
    "0*f_hat_0+f_hat_1+0*f_hat_2*20==0 \n",
    "# enumerate_z(0)"
   ]
  },
  {
   "cell_type": "code",
   "execution_count": 32,
   "metadata": {},
   "outputs": [],
   "source": [
    "v_list = []\n",
    "index_s = 0\n",
    "zeta = R(20)\n",
    "\n",
    "\n",
    "\n",
    "s_relation = [R(-1*s_hat[3*i+1]-s_hat[3*i+2])/R(s_hat[3*i]) for i in range(n/3)]\n",
    "\n",
    "for i in range(n/3):\n",
    "    k = s_relation[i]\n",
    "    v = list((NTT_matrix[3*i+2] + NTT_matrix[3*i+1]+ k *NTT_matrix[3*i]))\n",
    "    # v = [0]*int(256*index_s) + v + [0]*int(256*(KYBER_N-index_s-1))\n",
    "    v_prime  = [int(i) for i in list(v)] + [0]*768\n",
    "    \n",
    "    v_prime= vec(v_prime)\n",
    "    v_list.append(v_prime)\n",
    "    \n",
    "    v = list((NTT_matrix[3*i+2]*k + NTT_matrix[3*i+1]+ *NTT_matrix[3*i]))\n",
    "    # v = [0]*int(256*index_s) + v + [0]*int(256*(KYBER_N-index_s-1))\n",
    "    v_prime  = [int(i) for i in list(v)] + [0]*768\n",
    "    \n",
    "    v_prime= vec(v_prime)\n",
    "    v_list.append(v_prime)\n",
    "    \n",
    "    \n",
    "    dbdd.leak(v_prime)\n",
    "\n",
    "            "
   ]
  },
  {
   "cell_type": "code",
   "execution_count": null,
   "metadata": {},
   "outputs": [],
   "source": [
    "dbdd.integrate_modular_hint?"
   ]
  },
  {
   "cell_type": "code",
   "execution_count": 23,
   "metadata": {},
   "outputs": [
    {
     "name": "stdout",
     "output_type": "stream",
     "text": [
      "\u001b[1;37m integrate modular hint \u001b[0m \u001b[0m (smooth) \u001b[0m \u001b[3;32m \t Worthy hint ! \u001b[0m \u001b[1;33m dim=1537, δ=1.00327435, β=527.95 \u001b[0m\n",
      "\u001b[1;37m integrate modular hint \u001b[0m \u001b[0m (smooth) \u001b[0m \u001b[3;32m \t Worthy hint ! \u001b[0m \u001b[1;33m dim=1537, δ=1.00327779, β=527.27 \u001b[0m\n",
      "\u001b[1;37m integrate modular hint \u001b[0m \u001b[0m (smooth) \u001b[0m \u001b[3;32m \t Worthy hint ! \u001b[0m \u001b[1;33m dim=1537, δ=1.00328063, β=526.59 \u001b[0m\n",
      "\u001b[1;37m integrate modular hint \u001b[0m \u001b[0m (smooth) \u001b[0m \u001b[3;32m \t Worthy hint ! \u001b[0m \u001b[1;33m dim=1537, δ=1.00328348, β=525.91 \u001b[0m\n",
      "\u001b[1;37m integrate modular hint \u001b[0m \u001b[0m (smooth) \u001b[0m \u001b[3;32m \t Worthy hint ! \u001b[0m \u001b[1;33m dim=1537, δ=1.00328692, β=525.23 \u001b[0m\n",
      "\u001b[1;37m integrate modular hint \u001b[0m \u001b[0m (smooth) \u001b[0m \u001b[3;32m \t Worthy hint ! \u001b[0m \u001b[1;33m dim=1537, δ=1.00328976, β=524.55 \u001b[0m\n",
      "\u001b[1;37m integrate modular hint \u001b[0m \u001b[0m (smooth) \u001b[0m \u001b[3;32m \t Worthy hint ! \u001b[0m \u001b[1;33m dim=1537, δ=1.00329260, β=523.88 \u001b[0m\n",
      "\u001b[1;37m integrate modular hint \u001b[0m \u001b[0m (smooth) \u001b[0m \u001b[3;32m \t Worthy hint ! \u001b[0m \u001b[1;33m dim=1537, δ=1.00329605, β=523.20 \u001b[0m\n",
      "\u001b[1;37m integrate modular hint \u001b[0m \u001b[0m (smooth) \u001b[0m \u001b[3;32m \t Worthy hint ! \u001b[0m \u001b[1;33m dim=1537, δ=1.00329889, β=522.53 \u001b[0m\n",
      "\u001b[1;37m integrate modular hint \u001b[0m \u001b[0m (smooth) \u001b[0m \u001b[3;32m \t Worthy hint ! \u001b[0m \u001b[1;33m dim=1537, δ=1.00330173, β=521.86 \u001b[0m\n",
      "\u001b[1;37m integrate modular hint \u001b[0m \u001b[0m (smooth) \u001b[0m \u001b[3;32m \t Worthy hint ! \u001b[0m \u001b[1;33m dim=1537, δ=1.00330517, β=521.19 \u001b[0m\n",
      "\u001b[1;37m integrate modular hint \u001b[0m \u001b[0m (smooth) \u001b[0m \u001b[3;32m \t Worthy hint ! \u001b[0m \u001b[1;33m dim=1537, δ=1.00330801, β=520.52 \u001b[0m\n",
      "\u001b[1;37m integrate modular hint \u001b[0m \u001b[0m (smooth) \u001b[0m \u001b[3;32m \t Worthy hint ! \u001b[0m \u001b[1;33m dim=1537, δ=1.00331084, β=519.85 \u001b[0m\n",
      "\u001b[1;37m integrate modular hint \u001b[0m \u001b[0m (smooth) \u001b[0m \u001b[3;32m \t Worthy hint ! \u001b[0m \u001b[1;33m dim=1537, δ=1.00331429, β=519.18 \u001b[0m\n",
      "\u001b[1;37m integrate modular hint \u001b[0m \u001b[0m (smooth) \u001b[0m \u001b[3;32m \t Worthy hint ! \u001b[0m \u001b[1;33m dim=1537, δ=1.00331712, β=518.52 \u001b[0m\n",
      "\u001b[1;37m integrate modular hint \u001b[0m \u001b[0m (smooth) \u001b[0m \u001b[3;32m \t Worthy hint ! \u001b[0m \u001b[1;33m dim=1537, δ=1.00331996, β=517.86 \u001b[0m\n",
      "\u001b[1;37m integrate modular hint \u001b[0m \u001b[0m (smooth) \u001b[0m \u001b[3;32m \t Worthy hint ! \u001b[0m \u001b[1;33m dim=1537, δ=1.00332340, β=517.19 \u001b[0m\n",
      "\u001b[1;37m integrate modular hint \u001b[0m \u001b[0m (smooth) \u001b[0m \u001b[3;32m \t Worthy hint ! \u001b[0m \u001b[1;33m dim=1537, δ=1.00332623, β=516.53 \u001b[0m\n",
      "\u001b[1;37m integrate modular hint \u001b[0m \u001b[0m (smooth) \u001b[0m \u001b[3;32m \t Worthy hint ! \u001b[0m \u001b[1;33m dim=1537, δ=1.00332906, β=515.87 \u001b[0m\n",
      "\u001b[1;37m integrate modular hint \u001b[0m \u001b[0m (smooth) \u001b[0m \u001b[3;32m \t Worthy hint ! \u001b[0m \u001b[1;33m dim=1537, δ=1.00333251, β=515.21 \u001b[0m\n",
      "\u001b[1;37m integrate modular hint \u001b[0m \u001b[0m (smooth) \u001b[0m \u001b[3;32m \t Worthy hint ! \u001b[0m \u001b[1;33m dim=1537, δ=1.00333534, β=514.56 \u001b[0m\n",
      "\u001b[1;37m integrate modular hint \u001b[0m \u001b[0m (smooth) \u001b[0m \u001b[3;32m \t Worthy hint ! \u001b[0m \u001b[1;33m dim=1537, δ=1.00333817, β=513.90 \u001b[0m\n",
      "\u001b[1;37m integrate modular hint \u001b[0m \u001b[0m (smooth) \u001b[0m \u001b[3;32m \t Worthy hint ! \u001b[0m \u001b[1;33m dim=1537, δ=1.00334161, β=513.25 \u001b[0m\n",
      "\u001b[1;37m integrate modular hint \u001b[0m \u001b[0m (smooth) \u001b[0m \u001b[3;32m \t Worthy hint ! \u001b[0m \u001b[1;33m dim=1537, δ=1.00334444, β=512.59 \u001b[0m\n",
      "\u001b[1;37m integrate modular hint \u001b[0m \u001b[0m (smooth) \u001b[0m \u001b[3;32m \t Worthy hint ! \u001b[0m \u001b[1;33m dim=1537, δ=1.00334727, β=511.94 \u001b[0m\n",
      "\u001b[1;37m integrate modular hint \u001b[0m \u001b[0m (smooth) \u001b[0m \u001b[3;32m \t Worthy hint ! \u001b[0m \u001b[1;33m dim=1537, δ=1.00335071, β=511.29 \u001b[0m\n",
      "\u001b[1;37m integrate modular hint \u001b[0m \u001b[0m (smooth) \u001b[0m \u001b[3;32m \t Worthy hint ! \u001b[0m \u001b[1;33m dim=1537, δ=1.00335354, β=510.64 \u001b[0m\n",
      "\u001b[1;37m integrate modular hint \u001b[0m \u001b[0m (smooth) \u001b[0m \u001b[3;32m \t Worthy hint ! \u001b[0m \u001b[1;33m dim=1537, δ=1.00335636, β=509.99 \u001b[0m\n",
      "\u001b[1;37m integrate modular hint \u001b[0m \u001b[0m (smooth) \u001b[0m \u001b[3;32m \t Worthy hint ! \u001b[0m \u001b[1;33m dim=1537, δ=1.00335981, β=509.34 \u001b[0m\n",
      "\u001b[1;37m integrate modular hint \u001b[0m \u001b[0m (smooth) \u001b[0m \u001b[3;32m \t Worthy hint ! \u001b[0m \u001b[1;33m dim=1537, δ=1.00336263, β=508.70 \u001b[0m\n",
      "\u001b[1;37m integrate modular hint \u001b[0m \u001b[0m (smooth) \u001b[0m \u001b[3;32m \t Worthy hint ! \u001b[0m \u001b[1;33m dim=1537, δ=1.00336607, β=508.05 \u001b[0m\n",
      "\u001b[1;37m integrate modular hint \u001b[0m \u001b[0m (smooth) \u001b[0m \u001b[3;32m \t Worthy hint ! \u001b[0m \u001b[1;33m dim=1537, δ=1.00336890, β=507.41 \u001b[0m\n",
      "\u001b[1;37m integrate modular hint \u001b[0m \u001b[0m (smooth) \u001b[0m \u001b[3;32m \t Worthy hint ! \u001b[0m \u001b[1;33m dim=1537, δ=1.00337172, β=506.77 \u001b[0m\n",
      "\u001b[1;37m integrate modular hint \u001b[0m \u001b[0m (smooth) \u001b[0m \u001b[3;32m \t Worthy hint ! \u001b[0m \u001b[1;33m dim=1537, δ=1.00337516, β=506.13 \u001b[0m\n",
      "\u001b[1;37m integrate modular hint \u001b[0m \u001b[0m (smooth) \u001b[0m \u001b[3;32m \t Worthy hint ! \u001b[0m \u001b[1;33m dim=1537, δ=1.00337798, β=505.49 \u001b[0m\n",
      "\u001b[1;37m integrate modular hint \u001b[0m \u001b[0m (smooth) \u001b[0m \u001b[3;32m \t Worthy hint ! \u001b[0m \u001b[1;33m dim=1537, δ=1.00338080, β=504.85 \u001b[0m\n",
      "\u001b[1;37m integrate modular hint \u001b[0m \u001b[0m (smooth) \u001b[0m \u001b[3;32m \t Worthy hint ! \u001b[0m \u001b[1;33m dim=1537, δ=1.00338424, β=504.21 \u001b[0m\n",
      "\u001b[1;37m integrate modular hint \u001b[0m \u001b[0m (smooth) \u001b[0m \u001b[3;32m \t Worthy hint ! \u001b[0m \u001b[1;33m dim=1537, δ=1.00338706, β=503.58 \u001b[0m\n",
      "\u001b[1;37m integrate modular hint \u001b[0m \u001b[0m (smooth) \u001b[0m \u001b[3;32m \t Worthy hint ! \u001b[0m \u001b[1;33m dim=1537, δ=1.00338988, β=502.94 \u001b[0m\n",
      "\u001b[1;37m integrate modular hint \u001b[0m \u001b[0m (smooth) \u001b[0m \u001b[3;32m \t Worthy hint ! \u001b[0m \u001b[1;33m dim=1537, δ=1.00339332, β=502.31 \u001b[0m\n",
      "\u001b[1;37m integrate modular hint \u001b[0m \u001b[0m (smooth) \u001b[0m \u001b[3;32m \t Worthy hint ! \u001b[0m \u001b[1;33m dim=1537, δ=1.00339614, β=501.67 \u001b[0m\n",
      "\u001b[1;37m integrate modular hint \u001b[0m \u001b[0m (smooth) \u001b[0m \u001b[3;32m \t Worthy hint ! \u001b[0m \u001b[1;33m dim=1537, δ=1.00339958, β=501.04 \u001b[0m\n",
      "\u001b[1;37m integrate modular hint \u001b[0m \u001b[0m (smooth) \u001b[0m \u001b[3;32m \t Worthy hint ! \u001b[0m \u001b[1;33m dim=1537, δ=1.00340240, β=500.41 \u001b[0m\n",
      "\u001b[1;37m integrate modular hint \u001b[0m \u001b[0m (smooth) \u001b[0m \u001b[3;32m \t Worthy hint ! \u001b[0m \u001b[1;33m dim=1537, δ=1.00340521, β=499.78 \u001b[0m\n",
      "\u001b[1;37m integrate modular hint \u001b[0m \u001b[0m (smooth) \u001b[0m \u001b[3;32m \t Worthy hint ! \u001b[0m \u001b[1;33m dim=1537, δ=1.00340865, β=499.16 \u001b[0m\n",
      "\u001b[1;37m integrate modular hint \u001b[0m \u001b[0m (smooth) \u001b[0m \u001b[3;32m \t Worthy hint ! \u001b[0m \u001b[1;33m dim=1537, δ=1.00341146, β=498.53 \u001b[0m\n",
      "\u001b[1;37m integrate modular hint \u001b[0m \u001b[0m (smooth) \u001b[0m \u001b[3;32m \t Worthy hint ! \u001b[0m \u001b[1;33m dim=1537, δ=1.00341427, β=497.91 \u001b[0m\n",
      "\u001b[1;37m integrate modular hint \u001b[0m \u001b[0m (smooth) \u001b[0m \u001b[3;32m \t Worthy hint ! \u001b[0m \u001b[1;33m dim=1537, δ=1.00341772, β=497.28 \u001b[0m\n",
      "\u001b[1;37m integrate modular hint \u001b[0m \u001b[0m (smooth) \u001b[0m \u001b[3;32m \t Worthy hint ! \u001b[0m \u001b[1;33m dim=1537, δ=1.00342053, β=496.66 \u001b[0m\n",
      "\u001b[1;37m integrate modular hint \u001b[0m \u001b[0m (smooth) \u001b[0m \u001b[3;32m \t Worthy hint ! \u001b[0m \u001b[1;33m dim=1537, δ=1.00342397, β=496.04 \u001b[0m\n",
      "\u001b[1;37m integrate modular hint \u001b[0m \u001b[0m (smooth) \u001b[0m \u001b[3;32m \t Worthy hint ! \u001b[0m \u001b[1;33m dim=1537, δ=1.00342678, β=495.42 \u001b[0m\n",
      "\u001b[1;37m integrate modular hint \u001b[0m \u001b[0m (smooth) \u001b[0m \u001b[3;32m \t Worthy hint ! \u001b[0m \u001b[1;33m dim=1537, δ=1.00342959, β=494.80 \u001b[0m\n",
      "\u001b[1;37m integrate modular hint \u001b[0m \u001b[0m (smooth) \u001b[0m \u001b[3;32m \t Worthy hint ! \u001b[0m \u001b[1;33m dim=1537, δ=1.00343303, β=494.18 \u001b[0m\n",
      "\u001b[1;37m integrate modular hint \u001b[0m \u001b[0m (smooth) \u001b[0m \u001b[3;32m \t Worthy hint ! \u001b[0m \u001b[1;33m dim=1537, δ=1.00343584, β=493.56 \u001b[0m\n",
      "\u001b[1;37m integrate modular hint \u001b[0m \u001b[0m (smooth) \u001b[0m \u001b[3;32m \t Worthy hint ! \u001b[0m \u001b[1;33m dim=1537, δ=1.00343864, β=492.95 \u001b[0m\n",
      "\u001b[1;37m integrate modular hint \u001b[0m \u001b[0m (smooth) \u001b[0m \u001b[3;32m \t Worthy hint ! \u001b[0m \u001b[1;33m dim=1537, δ=1.00344209, β=492.33 \u001b[0m\n",
      "\u001b[1;37m integrate modular hint \u001b[0m \u001b[0m (smooth) \u001b[0m \u001b[3;32m \t Worthy hint ! \u001b[0m \u001b[1;33m dim=1537, δ=1.00344489, β=491.72 \u001b[0m\n",
      "\u001b[1;37m integrate modular hint \u001b[0m \u001b[0m (smooth) \u001b[0m \u001b[3;32m \t Worthy hint ! \u001b[0m \u001b[1;33m dim=1537, δ=1.00344833, β=491.11 \u001b[0m\n",
      "\u001b[1;37m integrate modular hint \u001b[0m \u001b[0m (smooth) \u001b[0m \u001b[3;32m \t Worthy hint ! \u001b[0m \u001b[1;33m dim=1537, δ=1.00345113, β=490.50 \u001b[0m\n",
      "\u001b[1;37m integrate modular hint \u001b[0m \u001b[0m (smooth) \u001b[0m \u001b[3;32m \t Worthy hint ! \u001b[0m \u001b[1;33m dim=1537, δ=1.00345393, β=489.89 \u001b[0m\n",
      "\u001b[1;37m integrate modular hint \u001b[0m \u001b[0m (smooth) \u001b[0m \u001b[3;32m \t Worthy hint ! \u001b[0m \u001b[1;33m dim=1537, δ=1.00345738, β=489.28 \u001b[0m\n",
      "\u001b[1;37m integrate modular hint \u001b[0m \u001b[0m (smooth) \u001b[0m \u001b[3;32m \t Worthy hint ! \u001b[0m \u001b[1;33m dim=1537, δ=1.00346018, β=488.67 \u001b[0m\n",
      "\u001b[1;37m integrate modular hint \u001b[0m \u001b[0m (smooth) \u001b[0m \u001b[3;32m \t Worthy hint ! \u001b[0m \u001b[1;33m dim=1537, δ=1.00346362, β=488.07 \u001b[0m\n",
      "\u001b[1;37m integrate modular hint \u001b[0m \u001b[0m (smooth) \u001b[0m \u001b[3;32m \t Worthy hint ! \u001b[0m \u001b[1;33m dim=1537, δ=1.00346642, β=487.46 \u001b[0m\n",
      "\u001b[1;37m integrate modular hint \u001b[0m \u001b[0m (smooth) \u001b[0m \u001b[3;32m \t Worthy hint ! \u001b[0m \u001b[1;33m dim=1537, δ=1.00346922, β=486.86 \u001b[0m\n",
      "\u001b[1;37m integrate modular hint \u001b[0m \u001b[0m (smooth) \u001b[0m \u001b[3;32m \t Worthy hint ! \u001b[0m \u001b[1;33m dim=1537, δ=1.00347266, β=486.25 \u001b[0m\n",
      "\u001b[1;37m integrate modular hint \u001b[0m \u001b[0m (smooth) \u001b[0m \u001b[3;32m \t Worthy hint ! \u001b[0m \u001b[1;33m dim=1537, δ=1.00347546, β=485.65 \u001b[0m\n",
      "\u001b[1;37m integrate modular hint \u001b[0m \u001b[0m (smooth) \u001b[0m \u001b[3;32m \t Worthy hint ! \u001b[0m \u001b[1;33m dim=1537, δ=1.00347890, β=485.05 \u001b[0m\n",
      "\u001b[1;37m integrate modular hint \u001b[0m \u001b[0m (smooth) \u001b[0m \u001b[3;32m \t Worthy hint ! \u001b[0m \u001b[1;33m dim=1537, δ=1.00348169, β=484.45 \u001b[0m\n",
      "\u001b[1;37m integrate modular hint \u001b[0m \u001b[0m (smooth) \u001b[0m \u001b[3;32m \t Worthy hint ! \u001b[0m \u001b[1;33m dim=1537, δ=1.00348449, β=483.85 \u001b[0m\n",
      "\u001b[1;37m integrate modular hint \u001b[0m \u001b[0m (smooth) \u001b[0m \u001b[3;32m \t Worthy hint ! \u001b[0m \u001b[1;33m dim=1537, δ=1.00348793, β=483.26 \u001b[0m\n",
      "\u001b[1;37m integrate modular hint \u001b[0m \u001b[0m (smooth) \u001b[0m \u001b[3;32m \t Worthy hint ! \u001b[0m \u001b[1;33m dim=1537, δ=1.00349072, β=482.66 \u001b[0m\n",
      "\u001b[1;37m integrate modular hint \u001b[0m \u001b[0m (smooth) \u001b[0m \u001b[3;32m \t Worthy hint ! \u001b[0m \u001b[1;33m dim=1537, δ=1.00349417, β=482.06 \u001b[0m\n",
      "\u001b[1;37m integrate modular hint \u001b[0m \u001b[0m (smooth) \u001b[0m \u001b[3;32m \t Worthy hint ! \u001b[0m \u001b[1;33m dim=1537, δ=1.00349696, β=481.47 \u001b[0m\n",
      "\u001b[1;37m integrate modular hint \u001b[0m \u001b[0m (smooth) \u001b[0m \u001b[3;32m \t Worthy hint ! \u001b[0m \u001b[1;33m dim=1537, δ=1.00349975, β=480.88 \u001b[0m\n",
      "\u001b[1;37m integrate modular hint \u001b[0m \u001b[0m (smooth) \u001b[0m \u001b[3;32m \t Worthy hint ! \u001b[0m \u001b[1;33m dim=1537, δ=1.00350319, β=480.29 \u001b[0m\n",
      "\u001b[1;37m integrate modular hint \u001b[0m \u001b[0m (smooth) \u001b[0m \u001b[3;32m \t Worthy hint ! \u001b[0m \u001b[1;33m dim=1537, δ=1.00350598, β=479.70 \u001b[0m\n",
      "\u001b[1;37m integrate modular hint \u001b[0m \u001b[0m (smooth) \u001b[0m \u001b[3;32m \t Worthy hint ! \u001b[0m \u001b[1;33m dim=1537, δ=1.00350942, β=479.11 \u001b[0m\n",
      "\u001b[1;37m integrate modular hint \u001b[0m \u001b[0m (smooth) \u001b[0m \u001b[3;32m \t Worthy hint ! \u001b[0m \u001b[1;33m dim=1537, δ=1.00351221, β=478.52 \u001b[0m\n",
      "\u001b[1;37m integrate modular hint \u001b[0m \u001b[0m (smooth) \u001b[0m \u001b[3;32m \t Worthy hint ! \u001b[0m \u001b[1;33m dim=1537, δ=1.00351499, β=477.93 \u001b[0m\n",
      "\u001b[1;37m integrate modular hint \u001b[0m \u001b[0m (smooth) \u001b[0m \u001b[3;32m \t Worthy hint ! \u001b[0m \u001b[1;33m dim=1537, δ=1.00351844, β=477.34 \u001b[0m\n",
      "\u001b[1;37m integrate modular hint \u001b[0m \u001b[0m (smooth) \u001b[0m \u001b[3;32m \t Worthy hint ! \u001b[0m \u001b[1;33m dim=1537, δ=1.00352122, β=476.76 \u001b[0m\n",
      "\u001b[1;37m integrate modular hint \u001b[0m \u001b[0m (smooth) \u001b[0m \u001b[3;32m \t Worthy hint ! \u001b[0m \u001b[1;33m dim=1537, δ=1.00352467, β=476.18 \u001b[0m\n",
      "\u001b[1;37m integrate modular hint \u001b[0m \u001b[0m (smooth) \u001b[0m \u001b[3;32m \t Worthy hint ! \u001b[0m \u001b[1;33m dim=1537, δ=1.00352745, β=475.59 \u001b[0m\n",
      "\u001b[1;37m integrate modular hint \u001b[0m \u001b[0m (smooth) \u001b[0m \u001b[3;32m \t Worthy hint ! \u001b[0m \u001b[1;33m dim=1537, δ=1.00353089, β=475.01 \u001b[0m\n",
      "\u001b[1;37m integrate modular hint \u001b[0m \u001b[0m (smooth) \u001b[0m \u001b[3;32m \t Worthy hint ! \u001b[0m \u001b[1;33m dim=1537, δ=1.00353367, β=474.43 \u001b[0m\n",
      "\u001b[1;37m integrate modular hint \u001b[0m \u001b[0m (smooth) \u001b[0m \u001b[3;32m \t Worthy hint ! \u001b[0m \u001b[1;33m dim=1537, δ=1.00353645, β=473.85 \u001b[0m\n",
      "\u001b[1;37m integrate modular hint \u001b[0m \u001b[0m (smooth) \u001b[0m \u001b[3;32m \t Worthy hint ! \u001b[0m \u001b[1;33m dim=1537, δ=1.00353990, β=473.27 \u001b[0m\n",
      "\u001b[1;37m integrate modular hint \u001b[0m \u001b[0m (smooth) \u001b[0m \u001b[3;32m \t Worthy hint ! \u001b[0m \u001b[1;33m dim=1537, δ=1.00354268, β=472.69 \u001b[0m\n",
      "\u001b[1;37m integrate modular hint \u001b[0m \u001b[0m (smooth) \u001b[0m \u001b[3;32m \t Worthy hint ! \u001b[0m \u001b[1;33m dim=1537, δ=1.00354612, β=472.12 \u001b[0m\n",
      "\u001b[1;37m integrate modular hint \u001b[0m \u001b[0m (smooth) \u001b[0m \u001b[3;32m \t Worthy hint ! \u001b[0m \u001b[1;33m dim=1537, δ=1.00354890, β=471.54 \u001b[0m\n",
      "\u001b[1;37m integrate modular hint \u001b[0m \u001b[0m (smooth) \u001b[0m \u001b[3;32m \t Worthy hint ! \u001b[0m \u001b[1;33m dim=1537, δ=1.00355167, β=470.97 \u001b[0m\n",
      "\u001b[1;37m integrate modular hint \u001b[0m \u001b[0m (smooth) \u001b[0m \u001b[3;32m \t Worthy hint ! \u001b[0m \u001b[1;33m dim=1537, δ=1.00355512, β=470.40 \u001b[0m\n",
      "\u001b[1;37m integrate modular hint \u001b[0m \u001b[0m (smooth) \u001b[0m \u001b[3;32m \t Worthy hint ! \u001b[0m \u001b[1;33m dim=1537, δ=1.00355789, β=469.82 \u001b[0m\n",
      "\u001b[1;37m integrate modular hint \u001b[0m \u001b[0m (smooth) \u001b[0m \u001b[3;32m \t Worthy hint ! \u001b[0m \u001b[1;33m dim=1537, δ=1.00356134, β=469.25 \u001b[0m\n",
      "\u001b[1;37m integrate modular hint \u001b[0m \u001b[0m (smooth) \u001b[0m \u001b[3;32m \t Worthy hint ! \u001b[0m \u001b[1;33m dim=1537, δ=1.00356411, β=468.68 \u001b[0m\n",
      "\u001b[1;37m integrate modular hint \u001b[0m \u001b[0m (smooth) \u001b[0m \u001b[3;32m \t Worthy hint ! \u001b[0m \u001b[1;33m dim=1537, δ=1.00356756, β=468.11 \u001b[0m\n",
      "\u001b[1;37m integrate modular hint \u001b[0m \u001b[0m (smooth) \u001b[0m \u001b[3;32m \t Worthy hint ! \u001b[0m \u001b[1;33m dim=1537, δ=1.00357033, β=467.55 \u001b[0m\n",
      "\u001b[1;37m integrate modular hint \u001b[0m \u001b[0m (smooth) \u001b[0m \u001b[3;32m \t Worthy hint ! \u001b[0m \u001b[1;33m dim=1537, δ=1.00357310, β=466.98 \u001b[0m\n",
      "\u001b[1;37m integrate modular hint \u001b[0m \u001b[0m (smooth) \u001b[0m \u001b[3;32m \t Worthy hint ! \u001b[0m \u001b[1;33m dim=1537, δ=1.00357654, β=466.41 \u001b[0m\n",
      "\u001b[1;37m integrate modular hint \u001b[0m \u001b[0m (smooth) \u001b[0m \u001b[3;32m \t Worthy hint ! \u001b[0m \u001b[1;33m dim=1537, δ=1.00357931, β=465.85 \u001b[0m\n",
      "\u001b[1;37m integrate modular hint \u001b[0m \u001b[0m (smooth) \u001b[0m \u001b[3;32m \t Worthy hint ! \u001b[0m \u001b[1;33m dim=1537, δ=1.00358275, β=465.28 \u001b[0m\n",
      "\u001b[1;37m integrate modular hint \u001b[0m \u001b[0m (smooth) \u001b[0m \u001b[3;32m \t Worthy hint ! \u001b[0m \u001b[1;33m dim=1537, δ=1.00358552, β=464.72 \u001b[0m\n",
      "\u001b[1;37m integrate modular hint \u001b[0m \u001b[0m (smooth) \u001b[0m \u001b[3;32m \t Worthy hint ! \u001b[0m \u001b[1;33m dim=1537, δ=1.00358897, β=464.16 \u001b[0m\n",
      "\u001b[1;37m integrate modular hint \u001b[0m \u001b[0m (smooth) \u001b[0m \u001b[3;32m \t Worthy hint ! \u001b[0m \u001b[1;33m dim=1537, δ=1.00359173, β=463.60 \u001b[0m\n",
      "\u001b[1;37m integrate modular hint \u001b[0m \u001b[0m (smooth) \u001b[0m \u001b[3;32m \t Worthy hint ! \u001b[0m \u001b[1;33m dim=1537, δ=1.00359518, β=463.04 \u001b[0m\n",
      "\u001b[1;37m integrate modular hint \u001b[0m \u001b[0m (smooth) \u001b[0m \u001b[3;32m \t Worthy hint ! \u001b[0m \u001b[1;33m dim=1537, δ=1.00359794, β=462.48 \u001b[0m\n",
      "\u001b[1;37m integrate modular hint \u001b[0m \u001b[0m (smooth) \u001b[0m \u001b[3;32m \t Worthy hint ! \u001b[0m \u001b[1;33m dim=1537, δ=1.00360070, β=461.92 \u001b[0m\n",
      "\u001b[1;37m integrate modular hint \u001b[0m \u001b[0m (smooth) \u001b[0m \u001b[3;32m \t Worthy hint ! \u001b[0m \u001b[1;33m dim=1537, δ=1.00360415, β=461.37 \u001b[0m\n",
      "\u001b[1;37m integrate modular hint \u001b[0m \u001b[0m (smooth) \u001b[0m \u001b[3;32m \t Worthy hint ! \u001b[0m \u001b[1;33m dim=1537, δ=1.00360691, β=460.81 \u001b[0m\n",
      "\u001b[1;37m integrate modular hint \u001b[0m \u001b[0m (smooth) \u001b[0m \u001b[3;32m \t Worthy hint ! \u001b[0m \u001b[1;33m dim=1537, δ=1.00361036, β=460.26 \u001b[0m\n",
      "\u001b[1;37m integrate modular hint \u001b[0m \u001b[0m (smooth) \u001b[0m \u001b[3;32m \t Worthy hint ! \u001b[0m \u001b[1;33m dim=1537, δ=1.00361312, β=459.70 \u001b[0m\n",
      "\u001b[1;37m integrate modular hint \u001b[0m \u001b[0m (smooth) \u001b[0m \u001b[3;32m \t Worthy hint ! \u001b[0m \u001b[1;33m dim=1537, δ=1.00361656, β=459.15 \u001b[0m\n",
      "\u001b[1;37m integrate modular hint \u001b[0m \u001b[0m (smooth) \u001b[0m \u001b[3;32m \t Worthy hint ! \u001b[0m \u001b[1;33m dim=1537, δ=1.00361932, β=458.60 \u001b[0m\n",
      "\u001b[1;37m integrate modular hint \u001b[0m \u001b[0m (smooth) \u001b[0m \u001b[3;32m \t Worthy hint ! \u001b[0m \u001b[1;33m dim=1537, δ=1.00362276, β=458.05 \u001b[0m\n",
      "\u001b[1;37m integrate modular hint \u001b[0m \u001b[0m (smooth) \u001b[0m \u001b[3;32m \t Worthy hint ! \u001b[0m \u001b[1;33m dim=1537, δ=1.00362552, β=457.50 \u001b[0m\n",
      "\u001b[1;37m integrate modular hint \u001b[0m \u001b[0m (smooth) \u001b[0m \u001b[3;32m \t Worthy hint ! \u001b[0m \u001b[1;33m dim=1537, δ=1.00362828, β=456.95 \u001b[0m\n",
      "\u001b[1;37m integrate modular hint \u001b[0m \u001b[0m (smooth) \u001b[0m \u001b[3;32m \t Worthy hint ! \u001b[0m \u001b[1;33m dim=1537, δ=1.00363172, β=456.40 \u001b[0m\n",
      "\u001b[1;37m integrate modular hint \u001b[0m \u001b[0m (smooth) \u001b[0m \u001b[3;32m \t Worthy hint ! \u001b[0m \u001b[1;33m dim=1537, δ=1.00363448, β=455.86 \u001b[0m\n",
      "\u001b[1;37m integrate modular hint \u001b[0m \u001b[0m (smooth) \u001b[0m \u001b[3;32m \t Worthy hint ! \u001b[0m \u001b[1;33m dim=1537, δ=1.00363792, β=455.31 \u001b[0m\n",
      "\u001b[1;37m integrate modular hint \u001b[0m \u001b[0m (smooth) \u001b[0m \u001b[3;32m \t Worthy hint ! \u001b[0m \u001b[1;33m dim=1537, δ=1.00364067, β=454.77 \u001b[0m\n",
      "\u001b[1;37m integrate modular hint \u001b[0m \u001b[0m (smooth) \u001b[0m \u001b[3;32m \t Worthy hint ! \u001b[0m \u001b[1;33m dim=1537, δ=1.00364412, β=454.22 \u001b[0m\n",
      "\u001b[1;37m integrate modular hint \u001b[0m \u001b[0m (smooth) \u001b[0m \u001b[3;32m \t Worthy hint ! \u001b[0m \u001b[1;33m dim=1537, δ=1.00364687, β=453.68 \u001b[0m\n",
      "\u001b[1;37m integrate modular hint \u001b[0m \u001b[0m (smooth) \u001b[0m \u001b[3;32m \t Worthy hint ! \u001b[0m \u001b[1;33m dim=1537, δ=1.00365032, β=453.14 \u001b[0m\n",
      "\u001b[1;37m integrate modular hint \u001b[0m \u001b[0m (smooth) \u001b[0m \u001b[3;32m \t Worthy hint ! \u001b[0m \u001b[1;33m dim=1537, δ=1.00365307, β=452.60 \u001b[0m\n",
      "\u001b[1;37m integrate modular hint \u001b[0m \u001b[0m (smooth) \u001b[0m \u001b[3;32m \t Worthy hint ! \u001b[0m \u001b[1;33m dim=1537, δ=1.00365651, β=452.06 \u001b[0m\n",
      "\u001b[1;37m integrate modular hint \u001b[0m \u001b[0m (smooth) \u001b[0m \u001b[3;32m \t Worthy hint ! \u001b[0m \u001b[1;33m dim=1537, δ=1.00365926, β=451.52 \u001b[0m\n",
      "\u001b[1;37m integrate modular hint \u001b[0m \u001b[0m (smooth) \u001b[0m \u001b[3;32m \t Worthy hint ! \u001b[0m \u001b[1;33m dim=1537, δ=1.00366201, β=450.98 \u001b[0m\n",
      "\u001b[1;37m integrate modular hint \u001b[0m \u001b[0m (smooth) \u001b[0m \u001b[3;32m \t Worthy hint ! \u001b[0m \u001b[1;33m dim=1537, δ=1.00366545, β=450.45 \u001b[0m\n",
      "\u001b[1;37m integrate modular hint \u001b[0m \u001b[0m (smooth) \u001b[0m \u001b[3;32m \t Worthy hint ! \u001b[0m \u001b[1;33m dim=1537, δ=1.00366820, β=449.91 \u001b[0m\n",
      "\u001b[1;37m integrate modular hint \u001b[0m \u001b[0m (smooth) \u001b[0m \u001b[3;32m \t Worthy hint ! \u001b[0m \u001b[1;33m dim=1537, δ=1.00367164, β=449.37 \u001b[0m\n",
      "\u001b[1;37m integrate modular hint \u001b[0m \u001b[0m (smooth) \u001b[0m \u001b[3;32m \t Worthy hint ! \u001b[0m \u001b[1;33m dim=1537, δ=1.00367438, β=448.84 \u001b[0m\n",
      "\u001b[1;37m integrate modular hint \u001b[0m \u001b[0m (smooth) \u001b[0m \u001b[3;32m \t Worthy hint ! \u001b[0m \u001b[1;33m dim=1537, δ=1.00367783, β=448.31 \u001b[0m\n",
      "\u001b[1;37m integrate modular hint \u001b[0m \u001b[0m (smooth) \u001b[0m \u001b[3;32m \t Worthy hint ! \u001b[0m \u001b[1;33m dim=1537, δ=1.00368057, β=447.78 \u001b[0m\n",
      "\u001b[1;37m integrate modular hint \u001b[0m \u001b[0m (smooth) \u001b[0m \u001b[3;32m \t Worthy hint ! \u001b[0m \u001b[1;33m dim=1537, δ=1.00368402, β=447.25 \u001b[0m\n",
      "\u001b[1;37m integrate modular hint \u001b[0m \u001b[0m (smooth) \u001b[0m \u001b[3;32m \t Worthy hint ! \u001b[0m \u001b[1;33m dim=1537, δ=1.00368676, β=446.72 \u001b[0m\n",
      "\u001b[1;37m integrate modular hint \u001b[0m \u001b[0m (smooth) \u001b[0m \u001b[3;32m \t Worthy hint ! \u001b[0m \u001b[1;33m dim=1537, δ=1.00369020, β=446.19 \u001b[0m\n",
      "\u001b[1;37m integrate modular hint \u001b[0m \u001b[0m (smooth) \u001b[0m \u001b[3;32m \t Worthy hint ! \u001b[0m \u001b[1;33m dim=1537, δ=1.00369294, β=445.66 \u001b[0m\n",
      "\u001b[1;37m integrate modular hint \u001b[0m \u001b[0m (smooth) \u001b[0m \u001b[3;32m \t Worthy hint ! \u001b[0m \u001b[1;33m dim=1537, δ=1.00369639, β=445.13 \u001b[0m\n",
      "\u001b[1;37m integrate modular hint \u001b[0m \u001b[0m (smooth) \u001b[0m \u001b[3;32m \t Worthy hint ! \u001b[0m \u001b[1;33m dim=1537, δ=1.00369913, β=444.61 \u001b[0m\n",
      "\u001b[1;37m integrate modular hint \u001b[0m \u001b[0m (smooth) \u001b[0m \u001b[3;32m \t Worthy hint ! \u001b[0m \u001b[1;33m dim=1537, δ=1.00370257, β=444.08 \u001b[0m\n",
      "\u001b[1;37m integrate modular hint \u001b[0m \u001b[0m (smooth) \u001b[0m \u001b[3;32m \t Worthy hint ! \u001b[0m \u001b[1;33m dim=1537, δ=1.00370531, β=443.56 \u001b[0m\n",
      "\u001b[1;37m integrate modular hint \u001b[0m \u001b[0m (smooth) \u001b[0m \u001b[3;32m \t Worthy hint ! \u001b[0m \u001b[1;33m dim=1537, δ=1.00370875, β=443.03 \u001b[0m\n",
      "\u001b[1;37m integrate modular hint \u001b[0m \u001b[0m (smooth) \u001b[0m \u001b[3;32m \t Worthy hint ! \u001b[0m \u001b[1;33m dim=1537, δ=1.00371149, β=442.51 \u001b[0m\n",
      "\u001b[1;37m integrate modular hint \u001b[0m \u001b[0m (smooth) \u001b[0m \u001b[3;32m \t Worthy hint ! \u001b[0m \u001b[1;33m dim=1537, δ=1.00371422, β=441.99 \u001b[0m\n",
      "\u001b[1;37m integrate modular hint \u001b[0m \u001b[0m (smooth) \u001b[0m \u001b[3;32m \t Worthy hint ! \u001b[0m \u001b[1;33m dim=1537, δ=1.00371767, β=441.47 \u001b[0m\n",
      "\u001b[1;37m integrate modular hint \u001b[0m \u001b[0m (smooth) \u001b[0m \u001b[3;32m \t Worthy hint ! \u001b[0m \u001b[1;33m dim=1537, δ=1.00372040, β=440.95 \u001b[0m\n",
      "\u001b[1;37m integrate modular hint \u001b[0m \u001b[0m (smooth) \u001b[0m \u001b[3;32m \t Worthy hint ! \u001b[0m \u001b[1;33m dim=1537, δ=1.00372384, β=440.43 \u001b[0m\n",
      "\u001b[1;37m integrate modular hint \u001b[0m \u001b[0m (smooth) \u001b[0m \u001b[3;32m \t Worthy hint ! \u001b[0m \u001b[1;33m dim=1537, δ=1.00372657, β=439.91 \u001b[0m\n",
      "\u001b[1;37m integrate modular hint \u001b[0m \u001b[0m (smooth) \u001b[0m \u001b[3;32m \t Worthy hint ! \u001b[0m \u001b[1;33m dim=1537, δ=1.00373002, β=439.39 \u001b[0m\n",
      "\u001b[1;37m integrate modular hint \u001b[0m \u001b[0m (smooth) \u001b[0m \u001b[3;32m \t Worthy hint ! \u001b[0m \u001b[1;33m dim=1537, δ=1.00373275, β=438.88 \u001b[0m\n",
      "\u001b[1;37m integrate modular hint \u001b[0m \u001b[0m (smooth) \u001b[0m \u001b[3;32m \t Worthy hint ! \u001b[0m \u001b[1;33m dim=1537, δ=1.00373619, β=438.36 \u001b[0m\n",
      "\u001b[1;37m integrate modular hint \u001b[0m \u001b[0m (smooth) \u001b[0m \u001b[3;32m \t Worthy hint ! \u001b[0m \u001b[1;33m dim=1537, δ=1.00373892, β=437.85 \u001b[0m\n",
      "\u001b[1;37m integrate modular hint \u001b[0m \u001b[0m (smooth) \u001b[0m \u001b[3;32m \t Worthy hint ! \u001b[0m \u001b[1;33m dim=1537, δ=1.00374237, β=437.34 \u001b[0m\n",
      "\u001b[1;37m integrate modular hint \u001b[0m \u001b[0m (smooth) \u001b[0m \u001b[3;32m \t Worthy hint ! \u001b[0m \u001b[1;33m dim=1537, δ=1.00374509, β=436.82 \u001b[0m\n",
      "\u001b[1;37m integrate modular hint \u001b[0m \u001b[0m (smooth) \u001b[0m \u001b[3;32m \t Worthy hint ! \u001b[0m \u001b[1;33m dim=1537, δ=1.00374854, β=436.31 \u001b[0m\n",
      "\u001b[1;37m integrate modular hint \u001b[0m \u001b[0m (smooth) \u001b[0m \u001b[3;32m \t Worthy hint ! \u001b[0m \u001b[1;33m dim=1537, δ=1.00375126, β=435.80 \u001b[0m\n",
      "\u001b[1;37m integrate modular hint \u001b[0m \u001b[0m (smooth) \u001b[0m \u001b[3;32m \t Worthy hint ! \u001b[0m \u001b[1;33m dim=1537, δ=1.00375471, β=435.29 \u001b[0m\n",
      "\u001b[1;37m integrate modular hint \u001b[0m \u001b[0m (smooth) \u001b[0m \u001b[3;32m \t Worthy hint ! \u001b[0m \u001b[1;33m dim=1537, δ=1.00375743, β=434.78 \u001b[0m\n",
      "\u001b[1;37m integrate modular hint \u001b[0m \u001b[0m (smooth) \u001b[0m \u001b[3;32m \t Worthy hint ! \u001b[0m \u001b[1;33m dim=1537, δ=1.00376087, β=434.28 \u001b[0m\n",
      "\u001b[1;37m integrate modular hint \u001b[0m \u001b[0m (smooth) \u001b[0m \u001b[3;32m \t Worthy hint ! \u001b[0m \u001b[1;33m dim=1537, δ=1.00376359, β=433.77 \u001b[0m\n",
      "\u001b[1;37m integrate modular hint \u001b[0m \u001b[0m (smooth) \u001b[0m \u001b[3;32m \t Worthy hint ! \u001b[0m \u001b[1;33m dim=1537, δ=1.00376704, β=433.26 \u001b[0m\n",
      "\u001b[1;37m integrate modular hint \u001b[0m \u001b[0m (smooth) \u001b[0m \u001b[3;32m \t Worthy hint ! \u001b[0m \u001b[1;33m dim=1537, δ=1.00376976, β=432.76 \u001b[0m\n",
      "\u001b[1;37m integrate modular hint \u001b[0m \u001b[0m (smooth) \u001b[0m \u001b[3;32m \t Worthy hint ! \u001b[0m \u001b[1;33m dim=1537, δ=1.00377320, β=432.25 \u001b[0m\n",
      "\u001b[1;37m integrate modular hint \u001b[0m \u001b[0m (smooth) \u001b[0m \u001b[3;32m \t Worthy hint ! \u001b[0m \u001b[1;33m dim=1537, δ=1.00377592, β=431.75 \u001b[0m\n",
      "\u001b[1;37m integrate modular hint \u001b[0m \u001b[0m (smooth) \u001b[0m \u001b[3;32m \t Worthy hint ! \u001b[0m \u001b[1;33m dim=1537, δ=1.00377937, β=431.25 \u001b[0m\n",
      "\u001b[1;37m integrate modular hint \u001b[0m \u001b[0m (smooth) \u001b[0m \u001b[3;32m \t Worthy hint ! \u001b[0m \u001b[1;33m dim=1537, δ=1.00378208, β=430.75 \u001b[0m\n",
      "\u001b[1;37m integrate modular hint \u001b[0m \u001b[0m (smooth) \u001b[0m \u001b[3;32m \t Worthy hint ! \u001b[0m \u001b[1;33m dim=1537, δ=1.00378553, β=430.25 \u001b[0m\n",
      "\u001b[1;37m integrate modular hint \u001b[0m \u001b[0m (smooth) \u001b[0m \u001b[3;32m \t Worthy hint ! \u001b[0m \u001b[1;33m dim=1537, δ=1.00378824, β=429.75 \u001b[0m\n",
      "\u001b[1;37m integrate modular hint \u001b[0m \u001b[0m (smooth) \u001b[0m \u001b[3;32m \t Worthy hint ! \u001b[0m \u001b[1;33m dim=1537, δ=1.00379169, β=429.25 \u001b[0m\n",
      "\u001b[1;37m integrate modular hint \u001b[0m \u001b[0m (smooth) \u001b[0m \u001b[3;32m \t Worthy hint ! \u001b[0m \u001b[1;33m dim=1537, δ=1.00379440, β=428.75 \u001b[0m\n",
      "\u001b[1;37m integrate modular hint \u001b[0m \u001b[0m (smooth) \u001b[0m \u001b[3;32m \t Worthy hint ! \u001b[0m \u001b[1;33m dim=1537, δ=1.00379785, β=428.25 \u001b[0m\n",
      "\u001b[1;37m integrate modular hint \u001b[0m \u001b[0m (smooth) \u001b[0m \u001b[3;32m \t Worthy hint ! \u001b[0m \u001b[1;33m dim=1537, δ=1.00380056, β=427.76 \u001b[0m\n",
      "\u001b[1;37m integrate modular hint \u001b[0m \u001b[0m (smooth) \u001b[0m \u001b[3;32m \t Worthy hint ! \u001b[0m \u001b[1;33m dim=1537, δ=1.00380400, β=427.26 \u001b[0m\n",
      "\u001b[1;37m integrate modular hint \u001b[0m \u001b[0m (smooth) \u001b[0m \u001b[3;32m \t Worthy hint ! \u001b[0m \u001b[1;33m dim=1537, δ=1.00380671, β=426.77 \u001b[0m\n",
      "\u001b[1;37m integrate modular hint \u001b[0m \u001b[0m (smooth) \u001b[0m \u001b[3;32m \t Worthy hint ! \u001b[0m \u001b[1;33m dim=1537, δ=1.00381016, β=426.27 \u001b[0m\n",
      "\u001b[1;37m integrate modular hint \u001b[0m \u001b[0m (smooth) \u001b[0m \u001b[3;32m \t Worthy hint ! \u001b[0m \u001b[1;33m dim=1537, δ=1.00381286, β=425.78 \u001b[0m\n",
      "\u001b[1;37m integrate modular hint \u001b[0m \u001b[0m (smooth) \u001b[0m \u001b[3;32m \t Worthy hint ! \u001b[0m \u001b[1;33m dim=1537, δ=1.00381631, β=425.29 \u001b[0m\n",
      "\u001b[1;37m integrate modular hint \u001b[0m \u001b[0m (smooth) \u001b[0m \u001b[3;32m \t Worthy hint ! \u001b[0m \u001b[1;33m dim=1537, δ=1.00381902, β=424.80 \u001b[0m\n",
      "\u001b[1;37m integrate modular hint \u001b[0m \u001b[0m (smooth) \u001b[0m \u001b[3;32m \t Worthy hint ! \u001b[0m \u001b[1;33m dim=1537, δ=1.00382246, β=424.31 \u001b[0m\n",
      "\u001b[1;37m integrate modular hint \u001b[0m \u001b[0m (smooth) \u001b[0m \u001b[3;32m \t Worthy hint ! \u001b[0m \u001b[1;33m dim=1537, δ=1.00382517, β=423.82 \u001b[0m\n",
      "\u001b[1;37m integrate modular hint \u001b[0m \u001b[0m (smooth) \u001b[0m \u001b[3;32m \t Worthy hint ! \u001b[0m \u001b[1;33m dim=1537, δ=1.00382861, β=423.33 \u001b[0m\n",
      "\u001b[1;37m integrate modular hint \u001b[0m \u001b[0m (smooth) \u001b[0m \u001b[3;32m \t Worthy hint ! \u001b[0m \u001b[1;33m dim=1537, δ=1.00383131, β=422.84 \u001b[0m\n",
      "\u001b[1;37m integrate modular hint \u001b[0m \u001b[0m (smooth) \u001b[0m \u001b[3;32m \t Worthy hint ! \u001b[0m \u001b[1;33m dim=1537, δ=1.00383476, β=422.35 \u001b[0m\n",
      "\u001b[1;37m integrate modular hint \u001b[0m \u001b[0m (smooth) \u001b[0m \u001b[3;32m \t Worthy hint ! \u001b[0m \u001b[1;33m dim=1537, δ=1.00383746, β=421.87 \u001b[0m\n",
      "\u001b[1;37m integrate modular hint \u001b[0m \u001b[0m (smooth) \u001b[0m \u001b[3;32m \t Worthy hint ! \u001b[0m \u001b[1;33m dim=1537, δ=1.00384091, β=421.38 \u001b[0m\n",
      "\u001b[1;37m integrate modular hint \u001b[0m \u001b[0m (smooth) \u001b[0m \u001b[3;32m \t Worthy hint ! \u001b[0m \u001b[1;33m dim=1537, δ=1.00384361, β=420.90 \u001b[0m\n",
      "\u001b[1;37m integrate modular hint \u001b[0m \u001b[0m (smooth) \u001b[0m \u001b[3;32m \t Worthy hint ! \u001b[0m \u001b[1;33m dim=1537, δ=1.00384705, β=420.41 \u001b[0m\n",
      "\u001b[1;37m integrate modular hint \u001b[0m \u001b[0m (smooth) \u001b[0m \u001b[3;32m \t Worthy hint ! \u001b[0m \u001b[1;33m dim=1537, δ=1.00384975, β=419.93 \u001b[0m\n",
      "\u001b[1;37m integrate modular hint \u001b[0m \u001b[0m (smooth) \u001b[0m \u001b[3;32m \t Worthy hint ! \u001b[0m \u001b[1;33m dim=1537, δ=1.00385320, β=419.45 \u001b[0m\n",
      "\u001b[1;37m integrate modular hint \u001b[0m \u001b[0m (smooth) \u001b[0m \u001b[3;32m \t Worthy hint ! \u001b[0m \u001b[1;33m dim=1537, δ=1.00385589, β=418.97 \u001b[0m\n",
      "\u001b[1;37m integrate modular hint \u001b[0m \u001b[0m (smooth) \u001b[0m \u001b[3;32m \t Worthy hint ! \u001b[0m \u001b[1;33m dim=1537, δ=1.00385934, β=418.49 \u001b[0m\n",
      "\u001b[1;37m integrate modular hint \u001b[0m \u001b[0m (smooth) \u001b[0m \u001b[3;32m \t Worthy hint ! \u001b[0m \u001b[1;33m dim=1537, δ=1.00386278, β=418.01 \u001b[0m\n",
      "\u001b[1;37m integrate modular hint \u001b[0m \u001b[0m (smooth) \u001b[0m \u001b[3;32m \t Worthy hint ! \u001b[0m \u001b[1;33m dim=1537, δ=1.00386548, β=417.53 \u001b[0m\n",
      "\u001b[1;37m integrate modular hint \u001b[0m \u001b[0m (smooth) \u001b[0m \u001b[3;32m \t Worthy hint ! \u001b[0m \u001b[1;33m dim=1537, δ=1.00386892, β=417.05 \u001b[0m\n",
      "\u001b[1;37m integrate modular hint \u001b[0m \u001b[0m (smooth) \u001b[0m \u001b[3;32m \t Worthy hint ! \u001b[0m \u001b[1;33m dim=1537, δ=1.00387161, β=416.58 \u001b[0m\n",
      "\u001b[1;37m integrate modular hint \u001b[0m \u001b[0m (smooth) \u001b[0m \u001b[3;32m \t Worthy hint ! \u001b[0m \u001b[1;33m dim=1537, δ=1.00387506, β=416.10 \u001b[0m\n",
      "\u001b[1;37m integrate modular hint \u001b[0m \u001b[0m (smooth) \u001b[0m \u001b[3;32m \t Worthy hint ! \u001b[0m \u001b[1;33m dim=1537, δ=1.00387775, β=415.62 \u001b[0m\n",
      "\u001b[1;37m integrate modular hint \u001b[0m \u001b[0m (smooth) \u001b[0m \u001b[3;32m \t Worthy hint ! \u001b[0m \u001b[1;33m dim=1537, δ=1.00388120, β=415.15 \u001b[0m\n",
      "\u001b[1;37m integrate modular hint \u001b[0m \u001b[0m (smooth) \u001b[0m \u001b[3;32m \t Worthy hint ! \u001b[0m \u001b[1;33m dim=1537, δ=1.00388389, β=414.68 \u001b[0m\n",
      "\u001b[1;37m integrate modular hint \u001b[0m \u001b[0m (smooth) \u001b[0m \u001b[3;32m \t Worthy hint ! \u001b[0m \u001b[1;33m dim=1537, δ=1.00388733, β=414.20 \u001b[0m\n",
      "\u001b[1;37m integrate modular hint \u001b[0m \u001b[0m (smooth) \u001b[0m \u001b[3;32m \t Worthy hint ! \u001b[0m \u001b[1;33m dim=1537, δ=1.00389002, β=413.73 \u001b[0m\n",
      "\u001b[1;37m integrate modular hint \u001b[0m \u001b[0m (smooth) \u001b[0m \u001b[3;32m \t Worthy hint ! \u001b[0m \u001b[1;33m dim=1537, δ=1.00389347, β=413.26 \u001b[0m\n",
      "\u001b[1;37m integrate modular hint \u001b[0m \u001b[0m (smooth) \u001b[0m \u001b[3;32m \t Worthy hint ! \u001b[0m \u001b[1;33m dim=1537, δ=1.00389615, β=412.79 \u001b[0m\n",
      "\u001b[1;37m integrate modular hint \u001b[0m \u001b[0m (smooth) \u001b[0m \u001b[3;32m \t Worthy hint ! \u001b[0m \u001b[1;33m dim=1537, δ=1.00389960, β=412.32 \u001b[0m\n",
      "\u001b[1;37m integrate modular hint \u001b[0m \u001b[0m (smooth) \u001b[0m \u001b[3;32m \t Worthy hint ! \u001b[0m \u001b[1;33m dim=1537, δ=1.00390228, β=411.85 \u001b[0m\n",
      "\u001b[1;37m integrate modular hint \u001b[0m \u001b[0m (smooth) \u001b[0m \u001b[3;32m \t Worthy hint ! \u001b[0m \u001b[1;33m dim=1537, δ=1.00390573, β=411.38 \u001b[0m\n",
      "\u001b[1;37m integrate modular hint \u001b[0m \u001b[0m (smooth) \u001b[0m \u001b[3;32m \t Worthy hint ! \u001b[0m \u001b[1;33m dim=1537, δ=1.00390841, β=410.92 \u001b[0m\n",
      "\u001b[1;37m integrate modular hint \u001b[0m \u001b[0m (smooth) \u001b[0m \u001b[3;32m \t Worthy hint ! \u001b[0m \u001b[1;33m dim=1537, δ=1.00391185, β=410.45 \u001b[0m\n",
      "\u001b[1;37m integrate modular hint \u001b[0m \u001b[0m (smooth) \u001b[0m \u001b[3;32m \t Worthy hint ! \u001b[0m \u001b[1;33m dim=1537, δ=1.00391453, β=409.98 \u001b[0m\n",
      "\u001b[1;37m integrate modular hint \u001b[0m \u001b[0m (smooth) \u001b[0m \u001b[3;32m \t Worthy hint ! \u001b[0m \u001b[1;33m dim=1537, δ=1.00391798, β=409.52 \u001b[0m\n",
      "\u001b[1;37m integrate modular hint \u001b[0m \u001b[0m (smooth) \u001b[0m \u001b[3;32m \t Worthy hint ! \u001b[0m \u001b[1;33m dim=1537, δ=1.00392143, β=409.06 \u001b[0m\n",
      "\u001b[1;37m integrate modular hint \u001b[0m \u001b[0m (smooth) \u001b[0m \u001b[3;32m \t Worthy hint ! \u001b[0m \u001b[1;33m dim=1537, δ=1.00392410, β=408.59 \u001b[0m\n",
      "\u001b[1;37m integrate modular hint \u001b[0m \u001b[0m (smooth) \u001b[0m \u001b[3;32m \t Worthy hint ! \u001b[0m \u001b[1;33m dim=1537, δ=1.00392755, β=408.13 \u001b[0m\n",
      "\u001b[1;37m integrate modular hint \u001b[0m \u001b[0m (smooth) \u001b[0m \u001b[3;32m \t Worthy hint ! \u001b[0m \u001b[1;33m dim=1537, δ=1.00393023, β=407.67 \u001b[0m\n",
      "\u001b[1;37m integrate modular hint \u001b[0m \u001b[0m (smooth) \u001b[0m \u001b[3;32m \t Worthy hint ! \u001b[0m \u001b[1;33m dim=1537, δ=1.00393367, β=407.21 \u001b[0m\n",
      "\u001b[1;37m integrate modular hint \u001b[0m \u001b[0m (smooth) \u001b[0m \u001b[3;32m \t Worthy hint ! \u001b[0m \u001b[1;33m dim=1537, δ=1.00393635, β=406.75 \u001b[0m\n",
      "\u001b[1;37m integrate modular hint \u001b[0m \u001b[0m (smooth) \u001b[0m \u001b[3;32m \t Worthy hint ! \u001b[0m \u001b[1;33m dim=1537, δ=1.00393979, β=406.29 \u001b[0m\n",
      "\u001b[1;37m integrate modular hint \u001b[0m \u001b[0m (smooth) \u001b[0m \u001b[3;32m \t Worthy hint ! \u001b[0m \u001b[1;33m dim=1537, δ=1.00394246, β=405.83 \u001b[0m\n",
      "\u001b[1;37m integrate modular hint \u001b[0m \u001b[0m (smooth) \u001b[0m \u001b[3;32m \t Worthy hint ! \u001b[0m \u001b[1;33m dim=1537, δ=1.00394591, β=405.37 \u001b[0m\n",
      "\u001b[1;37m integrate modular hint \u001b[0m \u001b[0m (smooth) \u001b[0m \u001b[3;32m \t Worthy hint ! \u001b[0m \u001b[1;33m dim=1537, δ=1.00394858, β=404.92 \u001b[0m\n",
      "\u001b[1;37m integrate modular hint \u001b[0m \u001b[0m (smooth) \u001b[0m \u001b[3;32m \t Worthy hint ! \u001b[0m \u001b[1;33m dim=1537, δ=1.00395203, β=404.46 \u001b[0m\n",
      "\u001b[1;37m integrate modular hint \u001b[0m \u001b[0m (smooth) \u001b[0m \u001b[3;32m \t Worthy hint ! \u001b[0m \u001b[1;33m dim=1537, δ=1.00395548, β=404.00 \u001b[0m\n",
      "\u001b[1;37m integrate modular hint \u001b[0m \u001b[0m (smooth) \u001b[0m \u001b[3;32m \t Worthy hint ! \u001b[0m \u001b[1;33m dim=1537, δ=1.00395814, β=403.55 \u001b[0m\n",
      "\u001b[1;37m integrate modular hint \u001b[0m \u001b[0m (smooth) \u001b[0m \u001b[3;32m \t Worthy hint ! \u001b[0m \u001b[1;33m dim=1537, δ=1.00396159, β=403.10 \u001b[0m\n",
      "\u001b[1;37m integrate modular hint \u001b[0m \u001b[0m (smooth) \u001b[0m \u001b[3;32m \t Worthy hint ! \u001b[0m \u001b[1;33m dim=1537, δ=1.00396426, β=402.64 \u001b[0m\n",
      "\u001b[1;37m integrate modular hint \u001b[0m \u001b[0m (smooth) \u001b[0m \u001b[3;32m \t Worthy hint ! \u001b[0m \u001b[1;33m dim=1537, δ=1.00396770, β=402.19 \u001b[0m\n",
      "\u001b[1;37m integrate modular hint \u001b[0m \u001b[0m (smooth) \u001b[0m \u001b[3;32m \t Worthy hint ! \u001b[0m \u001b[1;33m dim=1537, δ=1.00397037, β=401.74 \u001b[0m\n",
      "\u001b[1;37m integrate modular hint \u001b[0m \u001b[0m (smooth) \u001b[0m \u001b[3;32m \t Worthy hint ! \u001b[0m \u001b[1;33m dim=1537, δ=1.00397381, β=401.29 \u001b[0m\n",
      "\u001b[1;37m integrate modular hint \u001b[0m \u001b[0m (smooth) \u001b[0m \u001b[3;32m \t Worthy hint ! \u001b[0m \u001b[1;33m dim=1537, δ=1.00397648, β=400.84 \u001b[0m\n",
      "\u001b[1;37m integrate modular hint \u001b[0m \u001b[0m (smooth) \u001b[0m \u001b[3;32m \t Worthy hint ! \u001b[0m \u001b[1;33m dim=1537, δ=1.00397992, β=400.39 \u001b[0m\n",
      "\u001b[1;37m integrate modular hint \u001b[0m \u001b[0m (smooth) \u001b[0m \u001b[3;32m \t Worthy hint ! \u001b[0m \u001b[1;33m dim=1537, δ=1.00398259, β=399.94 \u001b[0m\n",
      "\u001b[1;37m integrate modular hint \u001b[0m \u001b[0m (smooth) \u001b[0m \u001b[3;32m \t Worthy hint ! \u001b[0m \u001b[1;33m dim=1537, δ=1.00398603, β=399.49 \u001b[0m\n",
      "\u001b[1;37m integrate modular hint \u001b[0m \u001b[0m (smooth) \u001b[0m \u001b[3;32m \t Worthy hint ! \u001b[0m \u001b[1;33m dim=1537, δ=1.00398948, β=399.05 \u001b[0m\n",
      "\u001b[1;37m integrate modular hint \u001b[0m \u001b[0m (smooth) \u001b[0m \u001b[3;32m \t Worthy hint ! \u001b[0m \u001b[1;33m dim=1537, δ=1.00399214, β=398.60 \u001b[0m\n",
      "\u001b[1;37m integrate modular hint \u001b[0m \u001b[0m (smooth) \u001b[0m \u001b[3;32m \t Worthy hint ! \u001b[0m \u001b[1;33m dim=1537, δ=1.00399558, β=398.15 \u001b[0m\n",
      "\u001b[1;37m integrate modular hint \u001b[0m \u001b[0m (smooth) \u001b[0m \u001b[3;32m \t Worthy hint ! \u001b[0m \u001b[1;33m dim=1537, δ=1.00399824, β=397.71 \u001b[0m\n",
      "\u001b[1;37m integrate modular hint \u001b[0m \u001b[0m (smooth) \u001b[0m \u001b[3;32m \t Worthy hint ! \u001b[0m \u001b[1;33m dim=1537, δ=1.00400169, β=397.27 \u001b[0m\n",
      "\u001b[1;37m integrate modular hint \u001b[0m \u001b[0m (smooth) \u001b[0m \u001b[3;32m \t Worthy hint ! \u001b[0m \u001b[1;33m dim=1537, δ=1.00400434, β=396.82 \u001b[0m\n",
      "\u001b[1;37m integrate modular hint \u001b[0m \u001b[0m (smooth) \u001b[0m \u001b[3;32m \t Worthy hint ! \u001b[0m \u001b[1;33m dim=1537, δ=1.00400779, β=396.38 \u001b[0m\n",
      "\u001b[1;37m integrate modular hint \u001b[0m \u001b[0m (smooth) \u001b[0m \u001b[3;32m \t Worthy hint ! \u001b[0m \u001b[1;33m dim=1537, δ=1.00401044, β=395.94 \u001b[0m\n",
      "\u001b[1;37m integrate modular hint \u001b[0m \u001b[0m (smooth) \u001b[0m \u001b[3;32m \t Worthy hint ! \u001b[0m \u001b[1;33m dim=1537, δ=1.00401389, β=395.50 \u001b[0m\n",
      "\u001b[1;37m integrate modular hint \u001b[0m \u001b[0m (smooth) \u001b[0m \u001b[3;32m \t Worthy hint ! \u001b[0m \u001b[1;33m dim=1537, δ=1.00401734, β=395.06 \u001b[0m\n",
      "\u001b[1;37m integrate modular hint \u001b[0m \u001b[0m (smooth) \u001b[0m \u001b[3;32m \t Worthy hint ! \u001b[0m \u001b[1;33m dim=1537, δ=1.00401999, β=394.62 \u001b[0m\n",
      "\u001b[1;37m integrate modular hint \u001b[0m \u001b[0m (smooth) \u001b[0m \u001b[3;32m \t Worthy hint ! \u001b[0m \u001b[1;33m dim=1537, δ=1.00402344, β=394.18 \u001b[0m\n",
      "\u001b[1;37m integrate modular hint \u001b[0m \u001b[0m (smooth) \u001b[0m \u001b[3;32m \t Worthy hint ! \u001b[0m \u001b[1;33m dim=1537, δ=1.00402609, β=393.74 \u001b[0m\n",
      "\u001b[1;37m integrate modular hint \u001b[0m \u001b[0m (smooth) \u001b[0m \u001b[3;32m \t Worthy hint ! \u001b[0m \u001b[1;33m dim=1537, δ=1.00402953, β=393.30 \u001b[0m\n",
      "\u001b[1;37m integrate modular hint \u001b[0m \u001b[0m (smooth) \u001b[0m \u001b[3;32m \t Worthy hint ! \u001b[0m \u001b[1;33m dim=1537, δ=1.00403218, β=392.87 \u001b[0m\n",
      "\u001b[1;37m integrate modular hint \u001b[0m \u001b[0m (smooth) \u001b[0m \u001b[3;32m \t Worthy hint ! \u001b[0m \u001b[1;33m dim=1537, δ=1.00403563, β=392.43 \u001b[0m\n",
      "\u001b[1;37m integrate modular hint \u001b[0m \u001b[0m (smooth) \u001b[0m \u001b[3;32m \t Worthy hint ! \u001b[0m \u001b[1;33m dim=1537, δ=1.00403827, β=391.99 \u001b[0m\n",
      "\u001b[1;37m integrate modular hint \u001b[0m \u001b[0m (smooth) \u001b[0m \u001b[3;32m \t Worthy hint ! \u001b[0m \u001b[1;33m dim=1537, δ=1.00404172, β=391.56 \u001b[0m\n",
      "\u001b[1;37m integrate modular hint \u001b[0m \u001b[0m (smooth) \u001b[0m \u001b[3;32m \t Worthy hint ! \u001b[0m \u001b[1;33m dim=1537, δ=1.00404517, β=391.13 \u001b[0m\n",
      "\u001b[1;37m integrate modular hint \u001b[0m \u001b[0m (smooth) \u001b[0m \u001b[3;32m \t Worthy hint ! \u001b[0m \u001b[1;33m dim=1537, δ=1.00404781, β=390.69 \u001b[0m\n",
      "\u001b[1;37m integrate modular hint \u001b[0m \u001b[0m (smooth) \u001b[0m \u001b[3;32m \t Worthy hint ! \u001b[0m \u001b[1;33m dim=1537, δ=1.00405126, β=390.26 \u001b[0m\n",
      "\u001b[1;37m integrate modular hint \u001b[0m \u001b[0m (smooth) \u001b[0m \u001b[3;32m \t Worthy hint ! \u001b[0m \u001b[1;33m dim=1537, δ=1.00405390, β=389.83 \u001b[0m\n",
      "\u001b[1;37m integrate modular hint \u001b[0m \u001b[0m (smooth) \u001b[0m \u001b[3;32m \t Worthy hint ! \u001b[0m \u001b[1;33m dim=1537, δ=1.00405735, β=389.40 \u001b[0m\n"
     ]
    }
   ],
   "source": [
    "for v_prime in v_list:\n",
    "    dbdd.integrate_modular_hint(v_prime,0,3329,True)"
   ]
  },
  {
   "cell_type": "code",
   "execution_count": 47,
   "metadata": {},
   "outputs": [
    {
     "data": {
      "text/plain": [
       "153.884000000000"
      ]
     },
     "execution_count": 47,
     "metadata": {},
     "output_type": "execute_result"
    }
   ],
   "source": [
    "0.292*527"
   ]
  },
  {
   "cell_type": "code",
   "execution_count": 28,
   "metadata": {},
   "outputs": [
    {
     "data": {
      "text/plain": [
       "113.704800000000"
      ]
     },
     "execution_count": 28,
     "metadata": {},
     "output_type": "execute_result"
    }
   ],
   "source": [
    "0.292*389.40"
   ]
  }
 ],
 "metadata": {
  "kernelspec": {
   "display_name": "SageMath 10.2",
   "language": "sage",
   "name": "sagemath"
  },
  "language_info": {
   "codemirror_mode": {
    "name": "ipython",
    "version": 3
   },
   "file_extension": ".py",
   "mimetype": "text/x-python",
   "name": "python",
   "nbconvert_exporter": "python",
   "pygments_lexer": "ipython3",
   "version": "3.11.7"
  }
 },
 "nbformat": 4,
 "nbformat_minor": 4
}
